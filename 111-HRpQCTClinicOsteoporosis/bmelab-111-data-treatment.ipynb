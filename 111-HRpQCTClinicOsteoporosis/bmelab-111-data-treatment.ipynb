{
 "cells": [
  {
   "cell_type": "markdown",
   "metadata": {},
   "source": [
    "### BME Lab 111 - High-Resolution Computer Tomography in the Clinic for Osteoporosis\n",
    "\n",
    "#### Day 3 - hFE post-processing and analysis\n",
    "\n",
    "Date: 26.02.2024\n",
    "\n",
    "Author : Simone Poncioni (MSB - ARTORG Center)"
   ]
  },
  {
   "cell_type": "markdown",
   "metadata": {},
   "source": [
    "**Step 1: prepare the workspace by importing the necessary libraries and loading the raw data**"
   ]
  },
  {
   "cell_type": "code",
   "execution_count": null,
   "metadata": {},
   "outputs": [],
   "source": [
    "import pandas as pd\n",
    "import numpy as np\n",
    "import matplotlib.pyplot as plt\n",
    "from pathlib import Path\n",
    "from scipy.interpolate import interp1d"
   ]
  },
  {
   "cell_type": "code",
   "execution_count": null,
   "metadata": {},
   "outputs": [],
   "source": [
    "# TODO: insert here the path to the .csv file containing the force-displacement curve\n",
    "hfe_path = Path('insert/filepath/here.csv')"
   ]
  },
  {
   "cell_type": "code",
   "execution_count": null,
   "metadata": {},
   "outputs": [],
   "source": [
    "# import raw data\n",
    "hfe_df = pd.read_csv(hfe_path)\n",
    "\n",
    "# store columns in variables --> mind the spaces in front of the column names\n",
    "displacement = hfe_df['   displacement']\n",
    "force = hfe_df['          force']\n",
    "\n",
    "# check the data in a simple scatter plot\n",
    "plt.figure(figsize=(6, 5))\n",
    "plt.scatter(displacement, force, label=hfe_path.stem)\n",
    "plt.title(f'Raw results for {hfe_path.stem}', weight='bold')\n",
    "plt.xlabel('Displacement [mm]')\n",
    "plt.ylabel('Force [N]')\n",
    "plt.legend()\n",
    "plt.show()"
   ]
  },
  {
   "cell_type": "markdown",
   "metadata": {},
   "source": [
    "Considerations:\n",
    "\n",
    "- Under SI units, the displacement and reaction forces are negative because we are considering a **compressive** loading condition.\n",
    "- The material behaves linearly before yielding, and post-yield there is damage accumulation that leads to non-reversible plasticity."
   ]
  },
  {
   "cell_type": "markdown",
   "metadata": {},
   "source": [
    "**Step 2: Calculate basic mechanical properties**"
   ]
  },
  {
   "cell_type": "code",
   "execution_count": null,
   "metadata": {},
   "outputs": [],
   "source": [
    "# TODO: redefine variables for the specific test\n",
    "LINEAR_REG_IDX =  # index in the displacement array for which the curve is still linear (-) --> count the \"dots\" in above plot\n",
    "CROSS_SECTION =  # (mm2) => Tt.Ar from Standard Evaluation\n",
    "NB_SLICES =  # (-) => number of slices in Standard Evaluation (changes depending on radius/tibia)"
   ]
  },
  {
   "cell_type": "code",
   "execution_count": null,
   "metadata": {},
   "outputs": [],
   "source": [
    "# For simplicity, let's put the data in absolute values\n",
    "displacement_abs = np.abs(displacement.values)\n",
    "force_abs = np.abs(force.values)"
   ]
  },
  {
   "cell_type": "markdown",
   "metadata": {},
   "source": [
    "Calculate the stiffness of the linear region of the curve using the formula:\n",
    "\n",
    "$K = \\frac{F}{d} \\left( \\frac{N}{mm} \\right)$"
   ]
  },
  {
   "cell_type": "code",
   "execution_count": null,
   "metadata": {},
   "outputs": [],
   "source": [
    "def calculate_stiffness(force: np.ndarray, displacement: np.ndarray, lin: int):\n",
    "    \"\"\"\n",
    "    Calculate the stiffness of a system given force and displacement.\n",
    "\n",
    "    This function calculates the stiffness (k) of a system by fitting a \n",
    "    first order polynomial to the linear portion of the force-displacement data.\n",
    "\n",
    "    Args:\n",
    "        force (np.ndarray): The force applied to the system.\n",
    "        displacement (np.ndarray): The displacement of the system under the applied force.\n",
    "        lin (int): The index up to which the data is considered linear.\n",
    "\n",
    "    Returns:\n",
    "        float: The stiffness of the system.\n",
    "\n",
    "    Prints:\n",
    "        str: The calculated stiffness value.\n",
    "    \"\"\"\n",
    "    disp_linear = displacement[0:lin]\n",
    "    force_linear = force[0:lin]\n",
    "    # TODO: calculate k (the stiffness) using a 1st order polynomial fit (https://numpy.org/doc/stable/reference/generated/numpy.polyfit.html)\n",
    "    \n",
    "    print(f'Calculated stiffness k:\\t{k[0]:.3f} (N/mm)')\n",
    "    return k[0]\n",
    "\n",
    "k = calculate_stiffness(force_abs, displacement_abs, LINEAR_REG_IDX)"
   ]
  },
  {
   "cell_type": "code",
   "execution_count": null,
   "metadata": {},
   "outputs": [],
   "source": [
    "def calculate_fmax_and_disp_at_fmax(force: np.ndarray, displacement: np.ndarray):\n",
    "    \"\"\"\n",
    "    Calculate the maximum force and the displacement at the maximum force.\n",
    "\n",
    "    Args:\n",
    "        force (np.ndarray): An array of force values.\n",
    "        displacement (np.ndarray): An array of displacement values.\n",
    "\n",
    "    Returns:\n",
    "        tuple: A tuple containing the maximum force, the displacement at the maximum force, and the index of the maximum force.\n",
    "    \"\"\"\n",
    "    def calculate_fmax(force: np.ndarray):\n",
    "        \"\"\"\n",
    "        Calculate the maximum force from the force array.\n",
    "\n",
    "        Args:\n",
    "            force (np.ndarray): An array of force values.\n",
    "\n",
    "        Returns:\n",
    "            float: The maximum force.\n",
    "        \"\"\"\n",
    "        # TODO: calculate the maximum force (fmax) from the force array\n",
    "        # https://numpy.org/doc/stable/reference/generated/numpy.max.html\n",
    "        fmax = \n",
    "        return fmax\n",
    "    \n",
    "    fmax = calculate_fmax(force)\n",
    "    idx_fmax = np.where(force == fmax)\n",
    "    return fmax, displacement[idx_fmax[0][0]], idx_fmax\n",
    "\n",
    "\n",
    "def yield_point(height, k, FZ, DZ):\n",
    "    \"\"\"\n",
    "    Calculate the yield point.\n",
    "\n",
    "    Args:\n",
    "        height (float): The sample height.\n",
    "        k (float): The stiffness.\n",
    "        FZ (np.ndarray): The reaction force in Z direction.\n",
    "        DZ (np.ndarray): The displacement in Z direction.\n",
    "\n",
    "    Returns:\n",
    "        tuple: A tuple containing the yield force and the displacement at the yield point.\n",
    "    \"\"\"\n",
    "    h02 = height * 0.002\n",
    "    intersect02 = -h02 * k\n",
    "    F_offsetrule = np.array(DZ) * k + intersect02\n",
    "    for i in range(1, len(FZ)):\n",
    "        if FZ[i] < F_offsetrule[i]:\n",
    "            s_temp = (FZ[i] - FZ[i - 1]) / (DZ[i] - DZ[i - 1])\n",
    "            int_temp = FZ[i - 1] - s_temp * DZ[i - 1]\n",
    "            disp_yield = (int_temp - intersect02) / (k - s_temp)\n",
    "            Fyield = s_temp * disp_yield + int_temp\n",
    "            break\n",
    "    print(\"    - F yield = \", str(Fyield), \" N\")\n",
    "    print(\"    - Displacement at F yield = \", str(disp_yield), \" mm\")\n",
    "    return Fyield, disp_yield"
   ]
  },
  {
   "cell_type": "code",
   "execution_count": null,
   "metadata": {},
   "outputs": [],
   "source": [
    "spacing = 0.061\n",
    "height_sample_mm = NB_SLICES * spacing # mm\n",
    "\n",
    "print(f\"Sample height: {height_sample_mm} mm\")\n",
    "print(f\"Cross section: {CROSS_SECTION} mm²\")"
   ]
  },
  {
   "cell_type": "code",
   "execution_count": null,
   "metadata": {},
   "outputs": [],
   "source": [
    "# Run previously written functions\n",
    "k = calculate_stiffness(force_abs, displacement_abs, lin=LINEAR_REG_IDX)\n",
    "fmax, disp_at_fmax, idx_fmax = calculate_fmax_and_disp_at_fmax(force_abs, displacement_abs)\n",
    "force_yield, displacement_yield = yield_point(height=height_sample_mm, k=k, FZ=force_abs, DZ=displacement_abs)"
   ]
  },
  {
   "cell_type": "markdown",
   "metadata": {},
   "source": [
    "Calculate the stress using the following formula:\n",
    "\n",
    "$\\sigma = \\frac{F}{A} \\left(\\frac{N}{mm^2}\\right)$\n",
    "\n",
    "Where:\n",
    "\n",
    "$F: \\text{reaction force}$\n",
    "\n",
    "$A: \\text{cross-sectional area}$"
   ]
  },
  {
   "cell_type": "code",
   "execution_count": null,
   "metadata": {},
   "outputs": [],
   "source": [
    "def stress(force, force_yield, CROSS_SECTION):\n",
    "    \"\"\"\n",
    "    Calculate the stress, maximum stress, and yield stress.\n",
    "\n",
    "    Args:\n",
    "        force (np.ndarray): An array of force values.\n",
    "        force_yield (float): The yield force.\n",
    "        CROSS_SECTION (float): The cross-sectional area.\n",
    "\n",
    "    Returns:\n",
    "        tuple: A tuple containing the stress, maximum stress, and yield stress.\n",
    "    \"\"\"\n",
    "    # TODO: calculate sigma, sigma_max and sigma_yield from the forces and the cross section\n",
    "    sigma =\n",
    "    sigma_max = \n",
    "    sigma_yield = \n",
    "    return sigma, sigma_max, sigma_yield\n",
    "\n",
    "sigma, sigma_max, sigma_yield = stress(force_abs, force_yield, CROSS_SECTION)"
   ]
  },
  {
   "cell_type": "markdown",
   "metadata": {},
   "source": [
    "Calculate the strain using the following formula:\n",
    "\n",
    "$\\epsilon = \\frac{\\Delta l}{l_0} \\left(\\frac{mm}{mm}\\right) (-)$\n",
    "\n",
    "Where:\n",
    "\n",
    "$\\Delta l: \\text{displacement}$\n",
    "\n",
    "$l_0: \\text{sample heigth}$"
   ]
  },
  {
   "cell_type": "code",
   "execution_count": null,
   "metadata": {},
   "outputs": [],
   "source": [
    "def strain(displacement: np.ndarray, displacement_yield: float, disp_at_fmax: float, height: float):\n",
    "    \"\"\"\n",
    "    Calculate the strain, yield strain, and maximum strain.\n",
    "\n",
    "    Args:\n",
    "        displacement (np.ndarray): An array of displacement values.\n",
    "        displacement_yield (float): The yield displacement.\n",
    "        disp_at_fmax (float): The displacement at the maximum force (fmax).\n",
    "        height (float): The initial height of the sample.\n",
    "\n",
    "    Returns:\n",
    "        tuple: A tuple containing the strain, yield strain, and maximum strain.\n",
    "    \"\"\"\n",
    "    # TODO: calculate the strain, the yield strain and the maximum strain\n",
    "    return epsilon, eps_yield, eps_sigma_max\n",
    "\n",
    "epsilon, eps_yield, eps_sigma_max = strain(displacement_abs, displacement_yield, disp_at_fmax, height_sample_mm)\n",
    "stress_strain = np.c_[epsilon, sigma]"
   ]
  },
  {
   "cell_type": "code",
   "execution_count": null,
   "metadata": {},
   "outputs": [],
   "source": [
    "# Plot the results\n",
    "fig, (ax1, ax2) = plt.subplots(1, 2, figsize=(10, 5))\n",
    "force_displacement = np.insert(np.c_[displacement_abs, force_abs], 0, [0, 0], axis=0)\n",
    "ax1.plot(force_displacement[:, 0], force_displacement[:, 1])\n",
    "ax1.plot([0.002 * height_sample_mm, displacement_yield], [0, force_yield], c='k', linestyle='--')\n",
    "ax1.scatter(displacement_yield, force_yield, c='g', label='Yield force')\n",
    "ax1.scatter(force_displacement[idx_fmax, 0], force_displacement[idx_fmax, 1], c='r', label='Failure force')\n",
    "ax1.set_title('Force - Displacement', weight='bold')\n",
    "ax1.set_xlabel('Displacement [mm]')\n",
    "ax1.set_ylabel('Force [N]')\n",
    "ax1.set_xlim(0)\n",
    "ax1.set_ylim(0)\n",
    "ax1.legend(fontsize=12)\n",
    "\n",
    "stress_strain = np.insert(stress_strain, 0, [0, 0], axis=0)\n",
    "ax2.plot(stress_strain[:, 0], stress_strain[:, 1])\n",
    "ax2.plot([0.002, eps_yield], [0, sigma_yield], c='k', linestyle='--')\n",
    "ax2.scatter(eps_yield, sigma_yield, c='g', label='yield stress')\n",
    "ax2.scatter(eps_sigma_max, sigma_max, c='r', label='failure stress')\n",
    "ax2.set_title('Stress - Strain', weight='bold')\n",
    "ax2.set_xlabel('$\\mathbf{\\epsilon}$ [-]')\n",
    "ax2.set_ylabel('$\\mathbf{\\sigma}$ [N/mm²]')\n",
    "ax2.set_xlim(0)\n",
    "ax2.set_ylim(0)\n",
    "ax2.legend(fontsize=12)\n",
    "fig.set_facecolor(\"white\")\n",
    "\n",
    "savefig_path = hfe_path.parent / f'{hfe_path.stem}_results.png'\n",
    "fig.savefig(savefig_path, dpi=150, bbox_inches='tight')"
   ]
  }
 ],
 "metadata": {
  "kernelspec": {
   "display_name": "testing",
   "language": "python",
   "name": "python3"
  },
  "language_info": {
   "codemirror_mode": {
    "name": "ipython",
    "version": 3
   },
   "file_extension": ".py",
   "mimetype": "text/x-python",
   "name": "python",
   "nbconvert_exporter": "python",
   "pygments_lexer": "ipython3",
   "version": "3.9.16"
  }
 },
 "nbformat": 4,
 "nbformat_minor": 2
}
